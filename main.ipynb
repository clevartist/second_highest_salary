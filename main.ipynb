{
 "cells": [
  {
   "cell_type": "code",
   "execution_count": 14,
   "id": "325d17fc",
   "metadata": {},
   "outputs": [],
   "source": [
    "# import pandas as pd\n",
    "\n",
    "# data = pd.read_csv('salaries.csv')\n",
    "# employee_df = pd.DataFrame(data)\n",
    "\n",
    "\n",
    "# # def second_highest_salary(employee: pd.DataFrame) -> pd.DataFrame:\n",
    "    \n",
    "# #     # 1. Drop duplicates (avoid duplicates as separate salary)\n",
    "# #     unique_salaries = employee['Salary'].drop_duplicates()\n",
    "    \n",
    "# #     # 2. Sort them in descending order and get the second highest salary\n",
    "# #     if len(unique_salaries) >= 2:\n",
    "# #         second_highest = unique_salaries.nlargest(2).iloc[-1]\n",
    "# #     else:\n",
    "# #         second_highest = None\n",
    "    \n",
    "# #     # 3. Create a DataFrame with the second highest salary\n",
    "# #     res = pd.DataFrame({'Second Highest Salary': [second_highest]})\n",
    "    \n",
    "    \n",
    "# #     return res\n",
    "\n",
    "\n",
    "# def second_highest_salary(employee: pd.DataFrame) -> pd.DataFrame:\n",
    "    \n",
    "#     # Sort the employees by their salary in descending order\n",
    "#     sorted_employee = employee.sort_values(by='Salary', ascending=False)\n",
    "    \n",
    "#     # Drop duplicates in salaries and get the second highest salary\n",
    "#     unique_salaries = sorted_employee['Salary'].drop_duplicates()\n",
    "    \n",
    "#     if len(unique_salaries) >= 2:\n",
    "#         second_highest_salary = unique_salaries.iloc[1]  # Get the second highest salary\n",
    "#         employee_with_second_highest = sorted_employee[sorted_employee['Salary'] == second_highest_salary]\n",
    "#     else:\n",
    "#         second_highest_salary = None\n",
    "#         employee_with_second_highest = pd.DataFrame()\n",
    "    \n",
    "#     # Create a DataFrame with the employee having the second highest salary\n",
    "#     res = pd.DataFrame({'Second Highest Salary': [second_highest_salary]})\n",
    "    \n",
    "#     if not employee_with_second_highest.empty:\n",
    "#         res['Employee'] = employee_with_second_highest['Employee'].iloc[0]\n",
    "    \n",
    "    \n",
    "#     return res\n",
    "\n",
    "\n",
    "\n",
    "# result = second_highest_salary(employee_df)\n",
    "# print(result)"
   ]
  },
  {
   "cell_type": "code",
   "execution_count": 15,
   "id": "ab981afa",
   "metadata": {},
   "outputs": [],
   "source": [
    "import pandas as pd\n",
    "\n",
    "data = pd.read_csv('salaries.csv')\n",
    "employee_df = pd.DataFrame(data)"
   ]
  },
  {
   "cell_type": "code",
   "execution_count": 16,
   "id": "42b1f0aa",
   "metadata": {},
   "outputs": [],
   "source": [
    "def second_highest_salary(employee: pd.DataFrame) -> pd.DataFrame:\n",
    "    \n",
    "    # Sort the employees by their salary in descending order\n",
    "    sorted_employee = employee.sort_values(by='Salary', ascending=False)\n",
    "    \n",
    "    # Drop duplicates in salaries and get the second highest salary\n",
    "    unique_salaries = sorted_employee['Salary'].drop_duplicates()\n",
    "    \n",
    "    if len(unique_salaries) >= 2:\n",
    "        second_highest_salary = unique_salaries.iloc[1]  # Get the second highest salary\n",
    "        employee_with_second_highest = sorted_employee[sorted_employee['Salary'] == second_highest_salary]\n",
    "    else:\n",
    "        second_highest_salary = None\n",
    "        employee_with_second_highest = pd.DataFrame()\n",
    "    \n",
    "    # Create a DataFrame with the employee having the second highest salary\n",
    "    res = pd.DataFrame({'Second Highest Salary': [second_highest_salary]})\n",
    "    \n",
    "    if not employee_with_second_highest.empty:\n",
    "        res['Employee'] = employee_with_second_highest['Employee'].iloc[0]\n",
    "    \n",
    "    \n",
    "    return res"
   ]
  },
  {
   "cell_type": "code",
   "execution_count": 17,
   "id": "6a6cdd38",
   "metadata": {},
   "outputs": [
    {
     "name": "stdout",
     "output_type": "stream",
     "text": [
      "   Second Highest Salary Employee\n",
      "0                  50000     pepe\n"
     ]
    }
   ],
   "source": [
    "result = second_highest_salary(employee_df)\n",
    "print(result)"
   ]
  },
  {
   "cell_type": "code",
   "execution_count": null,
   "id": "b3dabf89",
   "metadata": {},
   "outputs": [],
   "source": []
  }
 ],
 "metadata": {
  "kernelspec": {
   "display_name": "Python 3 (ipykernel)",
   "language": "python",
   "name": "python3"
  },
  "language_info": {
   "codemirror_mode": {
    "name": "ipython",
    "version": 3
   },
   "file_extension": ".py",
   "mimetype": "text/x-python",
   "name": "python",
   "nbconvert_exporter": "python",
   "pygments_lexer": "ipython3",
   "version": "3.11.4"
  }
 },
 "nbformat": 4,
 "nbformat_minor": 5
}
